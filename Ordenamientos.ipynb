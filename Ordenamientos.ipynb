{
  "nbformat": 4,
  "nbformat_minor": 0,
  "metadata": {
    "colab": {
      "provenance": [],
      "authorship_tag": "ABX9TyNAS8ELxU0v2W8+7F1rsvOI",
      "include_colab_link": true
    },
    "kernelspec": {
      "name": "python3",
      "display_name": "Python 3"
    },
    "language_info": {
      "name": "python"
    }
  },
  "cells": [
    {
      "cell_type": "markdown",
      "metadata": {
        "id": "view-in-github",
        "colab_type": "text"
      },
      "source": [
        "<a href=\"https://colab.research.google.com/github/Esteban-Caldera/Programaci-n-Avanzada/blob/main/Ordenamientos.ipynb\" target=\"_parent\"><img src=\"https://colab.research.google.com/assets/colab-badge.svg\" alt=\"Open In Colab\"/></a>"
      ]
    },
    {
      "cell_type": "markdown",
      "source": [
        "##Metodo de ordenamiento burbuja\n"
      ],
      "metadata": {
        "id": "9EzieOMrsaYB"
      }
    },
    {
      "cell_type": "code",
      "source": [
        "import time\n",
        "def metodo_burbuja(lista):\n",
        "  print(\"inicio del ordenamiento...\")\n",
        "  for i in range (len(lista)):\n",
        "    print(\"\\nnumero de pasada: \", i+1 )\n",
        "    for j in range (0, len(lista)-i -1):\n",
        "      print(\"numero de elemento: \", i+1 )\n",
        "      print(f\"comparacion de valor:  {lista[j]} con el valor: {lista[j+1]}\")\n",
        "      if lista[j] > lista[j+1]:\n",
        "        lista[j], lista [j+1]= lista[j+1], lista[j]\n",
        "        print (f\"***cambio de elemento {j} por elemento {j+1}\" )\n",
        "  print(\"fin del ordenamiento\")\n",
        "  return lista\n",
        "lista_ejemplo= [64,34, 25, 12, 22, 11, 88]\n",
        "lista_original= lista_ejemplo.copy()\n",
        "print(\"lista original: \", lista_ejemplo)\n",
        "lista_ordenanda= metodo_burbuja(lista_ejemplo)\n",
        "print(\"lista ordenada: \", lista_ordenanda)\n",
        "\n"
      ],
      "metadata": {
        "colab": {
          "base_uri": "https://localhost:8080/"
        },
        "id": "TWswxOWZs524",
        "outputId": "c767e8d0-ece6-4a2d-df46-c7279abdade7"
      },
      "execution_count": 22,
      "outputs": [
        {
          "output_type": "stream",
          "name": "stdout",
          "text": [
            "lista original:  [64, 34, 25, 12, 22, 11, 88]\n",
            "inicio del ordenamiento...\n",
            "\n",
            "numero de pasada:  1\n",
            "numero de elemento:  1\n",
            "comparacion de valor:  64 con el valor: 34\n",
            "***cambio de elemento 0 por elemento 1\n",
            "numero de elemento:  1\n",
            "comparacion de valor:  64 con el valor: 25\n",
            "***cambio de elemento 1 por elemento 2\n",
            "numero de elemento:  1\n",
            "comparacion de valor:  64 con el valor: 12\n",
            "***cambio de elemento 2 por elemento 3\n",
            "numero de elemento:  1\n",
            "comparacion de valor:  64 con el valor: 22\n",
            "***cambio de elemento 3 por elemento 4\n",
            "numero de elemento:  1\n",
            "comparacion de valor:  64 con el valor: 11\n",
            "***cambio de elemento 4 por elemento 5\n",
            "numero de elemento:  1\n",
            "comparacion de valor:  64 con el valor: 88\n",
            "\n",
            "numero de pasada:  2\n",
            "numero de elemento:  2\n",
            "comparacion de valor:  34 con el valor: 25\n",
            "***cambio de elemento 0 por elemento 1\n",
            "numero de elemento:  2\n",
            "comparacion de valor:  34 con el valor: 12\n",
            "***cambio de elemento 1 por elemento 2\n",
            "numero de elemento:  2\n",
            "comparacion de valor:  34 con el valor: 22\n",
            "***cambio de elemento 2 por elemento 3\n",
            "numero de elemento:  2\n",
            "comparacion de valor:  34 con el valor: 11\n",
            "***cambio de elemento 3 por elemento 4\n",
            "numero de elemento:  2\n",
            "comparacion de valor:  34 con el valor: 64\n",
            "\n",
            "numero de pasada:  3\n",
            "numero de elemento:  3\n",
            "comparacion de valor:  25 con el valor: 12\n",
            "***cambio de elemento 0 por elemento 1\n",
            "numero de elemento:  3\n",
            "comparacion de valor:  25 con el valor: 22\n",
            "***cambio de elemento 1 por elemento 2\n",
            "numero de elemento:  3\n",
            "comparacion de valor:  25 con el valor: 11\n",
            "***cambio de elemento 2 por elemento 3\n",
            "numero de elemento:  3\n",
            "comparacion de valor:  25 con el valor: 34\n",
            "\n",
            "numero de pasada:  4\n",
            "numero de elemento:  4\n",
            "comparacion de valor:  12 con el valor: 22\n",
            "numero de elemento:  4\n",
            "comparacion de valor:  22 con el valor: 11\n",
            "***cambio de elemento 1 por elemento 2\n",
            "numero de elemento:  4\n",
            "comparacion de valor:  22 con el valor: 25\n",
            "\n",
            "numero de pasada:  5\n",
            "numero de elemento:  5\n",
            "comparacion de valor:  12 con el valor: 11\n",
            "***cambio de elemento 0 por elemento 1\n",
            "numero de elemento:  5\n",
            "comparacion de valor:  12 con el valor: 22\n",
            "\n",
            "numero de pasada:  6\n",
            "numero de elemento:  6\n",
            "comparacion de valor:  11 con el valor: 12\n",
            "\n",
            "numero de pasada:  7\n",
            "fin del ordenamiento\n",
            "lista ordenada:  [11, 12, 22, 25, 34, 64, 88]\n"
          ]
        }
      ]
    },
    {
      "cell_type": "markdown",
      "source": [
        "## Metodo QuickSort\n"
      ],
      "metadata": {
        "id": "BrmqtX5p1ELe"
      }
    },
    {
      "cell_type": "code",
      "source": [
        "def quick_sort(lista):\n",
        "  if len(lista) < 2:\n",
        "    return lista\n",
        "  else:\n",
        "    pivote= lista [-1]\n",
        "    menores= [x for x in lista[:-1] if x < pivote]\n",
        "    mayores= [x for x in lista[:-1] if x >= pivote]\n",
        "    return quick_sort(menores) + [pivote] + quick_sort(mayores)\n",
        "\n",
        "lista_ejemplo= [64,34, 25, 12, 22, 11, 88]\n",
        "print(lista_ejemplo [:-1])\n",
        "lista_original= lista_ejemplo.copy()\n",
        "lista_ordenanda= quick_sort(lista_original)\n",
        "\n",
        "print(\"lista original: \", lista_ejemplo)\n",
        "print(\"lista ordenada: \", lista_ordenanda)"
      ],
      "metadata": {
        "colab": {
          "base_uri": "https://localhost:8080/"
        },
        "id": "kVY_3kvktLe3",
        "outputId": "dda43d2b-3706-440b-cb09-2b2e75bad985"
      },
      "execution_count": 39,
      "outputs": [
        {
          "output_type": "stream",
          "name": "stdout",
          "text": [
            "[64, 34, 25, 12, 22, 11]\n",
            "lista original:  [64, 34, 25, 12, 22, 11, 88]\n",
            "lista ordenada:  [11, 12, 22, 25, 34, 64, 88]\n"
          ]
        }
      ]
    },
    {
      "cell_type": "code",
      "source": [
        "import time\n",
        "\n",
        "def funcion_ejemplo():\n",
        "  suma=0\n",
        "  for i in range(1_000_000):\n",
        "    suma +=1\n",
        "  return suma\n",
        "\n",
        "inicio= time.time()\n",
        "resultado= funcion_ejemplo()\n",
        "fin= time.time()\n",
        "print(f\"el tiempo de ejecucion fue: {fin- inicio} segundos\")\n",
        "\n"
      ],
      "metadata": {
        "colab": {
          "base_uri": "https://localhost:8080/"
        },
        "id": "5O8mcvic510E",
        "outputId": "7ca2c461-eaae-4628-eb41-560d19c3ad00"
      },
      "execution_count": 59,
      "outputs": [
        {
          "output_type": "stream",
          "name": "stdout",
          "text": [
            "el tiempo de ejecucion fue: 0.039992570877075195 segundos\n"
          ]
        }
      ]
    }
  ]
}
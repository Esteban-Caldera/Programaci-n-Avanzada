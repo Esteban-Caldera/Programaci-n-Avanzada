{
  "nbformat": 4,
  "nbformat_minor": 0,
  "metadata": {
    "colab": {
      "provenance": [],
      "authorship_tag": "ABX9TyPHs5fmCMIcgt8EZG5J+6oD",
      "include_colab_link": true
    },
    "kernelspec": {
      "name": "python3",
      "display_name": "Python 3"
    },
    "language_info": {
      "name": "python"
    }
  },
  "cells": [
    {
      "cell_type": "markdown",
      "metadata": {
        "id": "view-in-github",
        "colab_type": "text"
      },
      "source": [
        "<a href=\"https://colab.research.google.com/github/Esteban-Caldera/Programaci-n-Avanzada/blob/main/U1A4Evaluaci%C3%B3n%20de%20M%C3%A9todos%20de%20Ordenamiento/Evaluaci%C3%B3n_de_M%C3%A9todos_de_Ordenamiento.ipynb\" target=\"_parent\"><img src=\"https://colab.research.google.com/assets/colab-badge.svg\" alt=\"Open In Colab\"/></a>"
      ]
    },
    {
      "cell_type": "markdown",
      "source": [
        "##Evaluación de Métodos de Ordenamiento\n",
        "Implementar los algoritmos de ordenamiento Burbuja y Quicksort en Jupyter Notebook, comparar su rendimiento con diferentes tamaños de datos y documentar el análisis en el mismo Notebook.\n"
      ],
      "metadata": {
        "id": "WwlZgNk-tLU8"
      }
    },
    {
      "cell_type": "code",
      "execution_count": 2,
      "metadata": {
        "id": "A_QDVy1OrXGr",
        "colab": {
          "base_uri": "https://localhost:8080/"
        },
        "outputId": "b655af7a-3b69-46e6-e45c-937bc05e7c65"
      },
      "outputs": [
        {
          "output_type": "stream",
          "name": "stdout",
          "text": [
            "Tamaño de la lista: 100\n",
            "Tiempo Bubble Sort: 0.000696 segundos\n",
            "Tiempo Quick Sort: 0.003420 segundos\n",
            "\n",
            "Tamaño de la lista: 500\n",
            "Tiempo Bubble Sort: 0.022593 segundos\n",
            "Tiempo Quick Sort: 0.001409 segundos\n",
            "\n",
            "Tamaño de la lista: 1000\n",
            "Tiempo Bubble Sort: 0.085844 segundos\n",
            "Tiempo Quick Sort: 0.003199 segundos\n",
            "\n",
            "Tamaño de la lista: 5000\n",
            "Tiempo Bubble Sort: 1.709204 segundos\n",
            "Tiempo Quick Sort: 0.010114 segundos\n",
            "\n",
            "Tamaño de la lista: 10000\n",
            "Lista original (primeros 10 elementos): [9060, 8905, 1847, 2546, 8728, 4614, 6372, 1211, 6478, 1306]\n",
            "Lista ordenada BS (10 primeros): [1, 2, 2, 3, 3, 4, 4, 5, 5, 5]\n",
            "Tiempo Bubble Sort: 5.188321 segundos\n",
            "Lista ordenada QS (10 primeros): [1, 2, 2, 3, 3, 4, 4, 5, 5, 5]\n",
            "Tiempo Quick Sort: 0.018255 segundos\n",
            "\n"
          ]
        }
      ],
      "source": [
        "import time\n",
        "import random\n",
        "\n",
        "#ordenamiento burbuja\n",
        "\n",
        "def bubble_sort(lista):\n",
        "    longitud = len(lista)\n",
        "    for i in range(longitud):\n",
        "        for j in range(longitud - i - 1):\n",
        "            if lista[j] > lista[j + 1]:\n",
        "                lista[j], lista[j + 1] = lista[j + 1], lista[j]\n",
        "\n",
        "#ordenamienrto quick_sort\n",
        "def quick_sort(lista):\n",
        "    if len(lista) <= 1:\n",
        "        return lista\n",
        "    pivote = lista[len(lista) // 2]\n",
        "    menores = [x for x in lista if x < pivote]\n",
        "    iguales = [x for x in lista if x == pivote]\n",
        "    mayores = [x for x in lista if x > pivote]\n",
        "    return quick_sort(menores) + iguales + quick_sort(mayores)\n",
        "#Medir tiempos\n",
        "def medir_tiempo(algoritmo, datos):\n",
        "    inicio = time.time()\n",
        "    algoritmo(datos)\n",
        "    fin = time.time()\n",
        "    return fin - inicio\n",
        "#Cantidad de numeros por lista\n",
        "tamanos = [100, 500, 1000, 5000, 10000]\n",
        "resultados = {}\n",
        "\n",
        "for tam in tamanos:\n",
        "    lista_aleatoria = [random.randint(1, 10000) for _ in range(tam)]\n",
        "\n",
        "    datos_bubble = lista_aleatoria.copy()\n",
        "    tiempo_bubble = medir_tiempo(bubble_sort, datos_bubble)\n",
        "\n",
        "    datos_quick = lista_aleatoria.copy()\n",
        "    tiempo_quick = medir_tiempo(lambda arr: quick_sort(arr), datos_quick)\n",
        "    lista_ordenada_qs = quick_sort(datos_quick)\n",
        "\n",
        "    resultados[tam] = {\"Bubble Sort\": tiempo_bubble, \"Quick Sort\": tiempo_quick}\n",
        "#Resultados\n",
        "for tam, tiempos in resultados.items():\n",
        "    print(f\"Tamaño de la lista: {tam}\")\n",
        "    if tam == 10000:\n",
        "        print(f\"Lista original (primeros 10 elementos): {lista_aleatoria[:10]}\")\n",
        "        print(f\"Lista ordenada BS (10 primeros): {datos_bubble[:10]}\")\n",
        "        print(f\"Tiempo Bubble Sort: {tiempos['Bubble Sort']:.6f} segundos\")\n",
        "        print(f\"Lista ordenada QS (10 primeros): {lista_ordenada_qs[:10]}\")\n",
        "        print(f\"Tiempo Quick Sort: {tiempos['Quick Sort']:.6f} segundos\")\n",
        "    else:\n",
        "        print(f\"Tiempo Bubble Sort: {tiempos['Bubble Sort']:.6f} segundos\")\n",
        "        print(f\"Tiempo Quick Sort: {tiempos['Quick Sort']:.6f} segundos\")\n",
        "    print()\n"
      ]
    }
  ]
}